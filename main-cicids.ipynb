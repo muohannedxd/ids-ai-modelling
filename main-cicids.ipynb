{
 "cells": [
  {
   "cell_type": "markdown",
   "id": "7a5678ee",
   "metadata": {},
   "source": [
    "# Main Notebook for Wireless Networks and Communication Project\n",
    "\n",
    "## Intrusion Detection System Using Artificial Intelligence: CIC IDS Dataset"
   ]
  },
  {
   "cell_type": "markdown",
   "id": "7aee36e9",
   "metadata": {},
   "source": [
    "This project aims to build an intelligent system for detecting and preventing network attacks and threats using artificial intelligence and machine learning. By analyzing detailed traffic logs and packet metadata, the system can identify patterns of malicious behavior such as port scanning, unusual packet flows, or suspicious connection states. The core idea is to leverage predictive models that learn from historical traffic data to proactively detect anomalies and potential intrusions. This approach not only supports in-depth traffic analysis but also enables real-time threat prevention, contributing to stronger and smarter network security infrastructures.  \n",
    "This notebook will showcase the dataset and the steps followed to create the model for prediction."
   ]
  },
  {
   "cell_type": "markdown",
   "id": "737ce68d",
   "metadata": {},
   "source": [
    "# 0. Libraries and Needed Tools"
   ]
  },
  {
   "cell_type": "markdown",
   "id": "72d8d59a",
   "metadata": {},
   "source": [
    "Let us import some needed `Python` libraries"
   ]
  },
  {
   "cell_type": "code",
   "execution_count": 1,
   "id": "318fce1b",
   "metadata": {},
   "outputs": [
    {
     "name": "stdout",
     "output_type": "stream",
     "text": [
      "Requirement already satisfied: pyarrow in /home/muohanned/miniforge3/envs/wireless/lib/python3.13/site-packages (19.0.1)\n",
      "Requirement already satisfied: scikit-learn in /home/muohanned/miniforge3/envs/wireless/lib/python3.13/site-packages (1.6.1)\n",
      "Requirement already satisfied: numpy>=1.19.5 in /home/muohanned/miniforge3/envs/wireless/lib/python3.13/site-packages (from scikit-learn) (2.2.3)\n",
      "Requirement already satisfied: scipy>=1.6.0 in /home/muohanned/miniforge3/envs/wireless/lib/python3.13/site-packages (from scikit-learn) (1.15.2)\n",
      "Requirement already satisfied: joblib>=1.2.0 in /home/muohanned/miniforge3/envs/wireless/lib/python3.13/site-packages (from scikit-learn) (1.4.2)\n",
      "Requirement already satisfied: threadpoolctl>=3.1.0 in /home/muohanned/miniforge3/envs/wireless/lib/python3.13/site-packages (from scikit-learn) (3.6.0)\n",
      "Requirement already satisfied: xgboost in /home/muohanned/miniforge3/envs/wireless/lib/python3.13/site-packages (3.0.0)\n",
      "Requirement already satisfied: numpy in /home/muohanned/miniforge3/envs/wireless/lib/python3.13/site-packages (from xgboost) (2.2.3)\n",
      "Requirement already satisfied: nvidia-nccl-cu12 in /home/muohanned/miniforge3/envs/wireless/lib/python3.13/site-packages (from xgboost) (2.26.2.post1)\n",
      "Requirement already satisfied: scipy in /home/muohanned/miniforge3/envs/wireless/lib/python3.13/site-packages (from xgboost) (1.15.2)\n"
     ]
    }
   ],
   "source": [
    "!pip install pyarrow\n",
    "!pip install scikit-learn\n",
    "!pip install xgboost"
   ]
  },
  {
   "cell_type": "code",
   "execution_count": 2,
   "id": "4c8374b7",
   "metadata": {},
   "outputs": [],
   "source": [
    "import numpy as np\n",
    "import pandas as pd\n",
    "import matplotlib.pyplot as plt\n",
    "import glob\n",
    "import os"
   ]
  },
  {
   "cell_type": "markdown",
   "id": "0cfd2ea1",
   "metadata": {},
   "source": [
    "# 1. Dataset"
   ]
  },
  {
   "cell_type": "markdown",
   "id": "999750e6",
   "metadata": {},
   "source": [
    "### 1.1. Data Description"
   ]
  },
  {
   "cell_type": "markdown",
   "id": "a0ac0abc",
   "metadata": {},
   "source": [
    "For this study, we will be using an academic intrusion detection dataset originally published by the Canadian Institute for Cybersecurity. All credit for the dataset goes to Dr. Iman Sharafaldin, Dr. Arash Habibi Lashkari, and Dr. Ali Ghorbani.  \n",
    "The dataset contains rich connection-level metadata for network traffic, including various protocol statistics and labeled indicators of malicious activity. It is structured to support the development and evaluation of intrusion detection and traffic classification models.  \n",
    "The data used for this study is accessible via the following link: [Kaggle](https://www.kaggle.com/datasets/dhoogla/cicids2017/)"
   ]
  },
  {
   "cell_type": "code",
   "execution_count": 3,
   "id": "3be89c9c",
   "metadata": {},
   "outputs": [
    {
     "data": {
      "text/html": [
       "<div>\n",
       "<style scoped>\n",
       "    .dataframe tbody tr th:only-of-type {\n",
       "        vertical-align: middle;\n",
       "    }\n",
       "\n",
       "    .dataframe tbody tr th {\n",
       "        vertical-align: top;\n",
       "    }\n",
       "\n",
       "    .dataframe thead th {\n",
       "        text-align: right;\n",
       "    }\n",
       "</style>\n",
       "<table border=\"1\" class=\"dataframe\">\n",
       "  <thead>\n",
       "    <tr style=\"text-align: right;\">\n",
       "      <th></th>\n",
       "      <th>Protocol</th>\n",
       "      <th>Flow Duration</th>\n",
       "      <th>Total Fwd Packets</th>\n",
       "      <th>Total Backward Packets</th>\n",
       "      <th>Fwd Packets Length Total</th>\n",
       "      <th>Bwd Packets Length Total</th>\n",
       "      <th>Fwd Packet Length Max</th>\n",
       "      <th>Fwd Packet Length Min</th>\n",
       "      <th>Fwd Packet Length Mean</th>\n",
       "      <th>Fwd Packet Length Std</th>\n",
       "      <th>...</th>\n",
       "      <th>Fwd Seg Size Min</th>\n",
       "      <th>Active Mean</th>\n",
       "      <th>Active Std</th>\n",
       "      <th>Active Max</th>\n",
       "      <th>Active Min</th>\n",
       "      <th>Idle Mean</th>\n",
       "      <th>Idle Std</th>\n",
       "      <th>Idle Max</th>\n",
       "      <th>Idle Min</th>\n",
       "      <th>Label</th>\n",
       "    </tr>\n",
       "  </thead>\n",
       "  <tbody>\n",
       "    <tr>\n",
       "      <th>0</th>\n",
       "      <td>6</td>\n",
       "      <td>640</td>\n",
       "      <td>7</td>\n",
       "      <td>4</td>\n",
       "      <td>440</td>\n",
       "      <td>358</td>\n",
       "      <td>220</td>\n",
       "      <td>0</td>\n",
       "      <td>62.857143</td>\n",
       "      <td>107.349007</td>\n",
       "      <td>...</td>\n",
       "      <td>20</td>\n",
       "      <td>0.0</td>\n",
       "      <td>0.0</td>\n",
       "      <td>0</td>\n",
       "      <td>0</td>\n",
       "      <td>0.0</td>\n",
       "      <td>0.0</td>\n",
       "      <td>0</td>\n",
       "      <td>0</td>\n",
       "      <td>Benign</td>\n",
       "    </tr>\n",
       "    <tr>\n",
       "      <th>1</th>\n",
       "      <td>6</td>\n",
       "      <td>900</td>\n",
       "      <td>9</td>\n",
       "      <td>4</td>\n",
       "      <td>600</td>\n",
       "      <td>2944</td>\n",
       "      <td>300</td>\n",
       "      <td>0</td>\n",
       "      <td>66.666664</td>\n",
       "      <td>132.287567</td>\n",
       "      <td>...</td>\n",
       "      <td>20</td>\n",
       "      <td>0.0</td>\n",
       "      <td>0.0</td>\n",
       "      <td>0</td>\n",
       "      <td>0</td>\n",
       "      <td>0.0</td>\n",
       "      <td>0.0</td>\n",
       "      <td>0</td>\n",
       "      <td>0</td>\n",
       "      <td>Benign</td>\n",
       "    </tr>\n",
       "    <tr>\n",
       "      <th>2</th>\n",
       "      <td>6</td>\n",
       "      <td>1205</td>\n",
       "      <td>7</td>\n",
       "      <td>4</td>\n",
       "      <td>2776</td>\n",
       "      <td>2830</td>\n",
       "      <td>1388</td>\n",
       "      <td>0</td>\n",
       "      <td>396.571442</td>\n",
       "      <td>677.274658</td>\n",
       "      <td>...</td>\n",
       "      <td>20</td>\n",
       "      <td>0.0</td>\n",
       "      <td>0.0</td>\n",
       "      <td>0</td>\n",
       "      <td>0</td>\n",
       "      <td>0.0</td>\n",
       "      <td>0.0</td>\n",
       "      <td>0</td>\n",
       "      <td>0</td>\n",
       "      <td>Benign</td>\n",
       "    </tr>\n",
       "    <tr>\n",
       "      <th>3</th>\n",
       "      <td>6</td>\n",
       "      <td>511</td>\n",
       "      <td>7</td>\n",
       "      <td>4</td>\n",
       "      <td>452</td>\n",
       "      <td>370</td>\n",
       "      <td>226</td>\n",
       "      <td>0</td>\n",
       "      <td>64.571426</td>\n",
       "      <td>110.276711</td>\n",
       "      <td>...</td>\n",
       "      <td>20</td>\n",
       "      <td>0.0</td>\n",
       "      <td>0.0</td>\n",
       "      <td>0</td>\n",
       "      <td>0</td>\n",
       "      <td>0.0</td>\n",
       "      <td>0.0</td>\n",
       "      <td>0</td>\n",
       "      <td>0</td>\n",
       "      <td>Benign</td>\n",
       "    </tr>\n",
       "    <tr>\n",
       "      <th>4</th>\n",
       "      <td>6</td>\n",
       "      <td>773</td>\n",
       "      <td>9</td>\n",
       "      <td>4</td>\n",
       "      <td>612</td>\n",
       "      <td>2944</td>\n",
       "      <td>306</td>\n",
       "      <td>0</td>\n",
       "      <td>68.000000</td>\n",
       "      <td>134.933319</td>\n",
       "      <td>...</td>\n",
       "      <td>20</td>\n",
       "      <td>0.0</td>\n",
       "      <td>0.0</td>\n",
       "      <td>0</td>\n",
       "      <td>0</td>\n",
       "      <td>0.0</td>\n",
       "      <td>0.0</td>\n",
       "      <td>0</td>\n",
       "      <td>0</td>\n",
       "      <td>Benign</td>\n",
       "    </tr>\n",
       "  </tbody>\n",
       "</table>\n",
       "<p>5 rows × 78 columns</p>\n",
       "</div>"
      ],
      "text/plain": [
       "   Protocol  Flow Duration  Total Fwd Packets  Total Backward Packets  \\\n",
       "0         6            640                  7                       4   \n",
       "1         6            900                  9                       4   \n",
       "2         6           1205                  7                       4   \n",
       "3         6            511                  7                       4   \n",
       "4         6            773                  9                       4   \n",
       "\n",
       "   Fwd Packets Length Total  Bwd Packets Length Total  Fwd Packet Length Max  \\\n",
       "0                       440                       358                    220   \n",
       "1                       600                      2944                    300   \n",
       "2                      2776                      2830                   1388   \n",
       "3                       452                       370                    226   \n",
       "4                       612                      2944                    306   \n",
       "\n",
       "   Fwd Packet Length Min  Fwd Packet Length Mean  Fwd Packet Length Std  ...  \\\n",
       "0                      0               62.857143             107.349007  ...   \n",
       "1                      0               66.666664             132.287567  ...   \n",
       "2                      0              396.571442             677.274658  ...   \n",
       "3                      0               64.571426             110.276711  ...   \n",
       "4                      0               68.000000             134.933319  ...   \n",
       "\n",
       "   Fwd Seg Size Min  Active Mean  Active Std  Active Max  Active Min  \\\n",
       "0                20          0.0         0.0           0           0   \n",
       "1                20          0.0         0.0           0           0   \n",
       "2                20          0.0         0.0           0           0   \n",
       "3                20          0.0         0.0           0           0   \n",
       "4                20          0.0         0.0           0           0   \n",
       "\n",
       "   Idle Mean  Idle Std  Idle Max  Idle Min   Label  \n",
       "0        0.0       0.0         0         0  Benign  \n",
       "1        0.0       0.0         0         0  Benign  \n",
       "2        0.0       0.0         0         0  Benign  \n",
       "3        0.0       0.0         0         0  Benign  \n",
       "4        0.0       0.0         0         0  Benign  \n",
       "\n",
       "[5 rows x 78 columns]"
      ]
     },
     "execution_count": 3,
     "metadata": {},
     "output_type": "execute_result"
    }
   ],
   "source": [
    "# directory of data files\n",
    "data_directory = \"data\"\n",
    "\n",
    "# get all .parquet file paths\n",
    "data_files = glob.glob(os.path.join(data_directory, \"*.parquet\"))\n",
    "\n",
    "# read and concatenate them into one DataFrame\n",
    "data = pd.concat([pd.read_parquet(file) for file in data_files], ignore_index=True)\n",
    "\n",
    "# preview the result\n",
    "data.head()"
   ]
  },
  {
   "cell_type": "markdown",
   "id": "b902daba",
   "metadata": {},
   "source": [
    "### 1.2. Exploratory Data Analysis"
   ]
  },
  {
   "cell_type": "code",
   "execution_count": 4,
   "id": "e4880f43",
   "metadata": {},
   "outputs": [
    {
     "name": "stdout",
     "output_type": "stream",
     "text": [
      "Total rows: 2313810\n",
      "Total columns: 78\n"
     ]
    }
   ],
   "source": [
    "print(f\"Total rows: {len(data)}\")\n",
    "print(f\"Total columns: {len(data.columns)}\")"
   ]
  },
  {
   "cell_type": "code",
   "execution_count": 5,
   "id": "a9cded36",
   "metadata": {},
   "outputs": [
    {
     "data": {
      "text/html": [
       "<div>\n",
       "<style scoped>\n",
       "    .dataframe tbody tr th:only-of-type {\n",
       "        vertical-align: middle;\n",
       "    }\n",
       "\n",
       "    .dataframe tbody tr th {\n",
       "        vertical-align: top;\n",
       "    }\n",
       "\n",
       "    .dataframe thead th {\n",
       "        text-align: right;\n",
       "    }\n",
       "</style>\n",
       "<table border=\"1\" class=\"dataframe\">\n",
       "  <thead>\n",
       "    <tr style=\"text-align: right;\">\n",
       "      <th></th>\n",
       "      <th>Protocol</th>\n",
       "      <th>Flow Duration</th>\n",
       "      <th>Total Fwd Packets</th>\n",
       "      <th>Total Backward Packets</th>\n",
       "      <th>Fwd Packets Length Total</th>\n",
       "      <th>Bwd Packets Length Total</th>\n",
       "      <th>Fwd Packet Length Max</th>\n",
       "      <th>Fwd Packet Length Min</th>\n",
       "      <th>Fwd Packet Length Mean</th>\n",
       "      <th>Fwd Packet Length Std</th>\n",
       "      <th>...</th>\n",
       "      <th>Fwd Act Data Packets</th>\n",
       "      <th>Fwd Seg Size Min</th>\n",
       "      <th>Active Mean</th>\n",
       "      <th>Active Std</th>\n",
       "      <th>Active Max</th>\n",
       "      <th>Active Min</th>\n",
       "      <th>Idle Mean</th>\n",
       "      <th>Idle Std</th>\n",
       "      <th>Idle Max</th>\n",
       "      <th>Idle Min</th>\n",
       "    </tr>\n",
       "  </thead>\n",
       "  <tbody>\n",
       "    <tr>\n",
       "      <th>count</th>\n",
       "      <td>2.313810e+06</td>\n",
       "      <td>2.313810e+06</td>\n",
       "      <td>2.313810e+06</td>\n",
       "      <td>2.313810e+06</td>\n",
       "      <td>2.313810e+06</td>\n",
       "      <td>2.313810e+06</td>\n",
       "      <td>2.313810e+06</td>\n",
       "      <td>2.313810e+06</td>\n",
       "      <td>2.313810e+06</td>\n",
       "      <td>2.313810e+06</td>\n",
       "      <td>...</td>\n",
       "      <td>2.313810e+06</td>\n",
       "      <td>2.313810e+06</td>\n",
       "      <td>2.313810e+06</td>\n",
       "      <td>2.313810e+06</td>\n",
       "      <td>2.313810e+06</td>\n",
       "      <td>2.313810e+06</td>\n",
       "      <td>2313810.0</td>\n",
       "      <td>2.313810e+06</td>\n",
       "      <td>2.313810e+06</td>\n",
       "      <td>2.313810e+06</td>\n",
       "    </tr>\n",
       "    <tr>\n",
       "      <th>mean</th>\n",
       "      <td>1.050673e+01</td>\n",
       "      <td>1.807575e+07</td>\n",
       "      <td>1.108391e+01</td>\n",
       "      <td>1.255334e+01</td>\n",
       "      <td>6.664045e+02</td>\n",
       "      <td>1.976976e+04</td>\n",
       "      <td>2.506291e+02</td>\n",
       "      <td>2.142396e+01</td>\n",
       "      <td>6.880509e+01</td>\n",
       "      <td>8.299154e+01</td>\n",
       "      <td>...</td>\n",
       "      <td>6.537630e+00</td>\n",
       "      <td>-3.360480e+03</td>\n",
       "      <td>9.977086e+04</td>\n",
       "      <td>5.032396e+04</td>\n",
       "      <td>1.874053e+05</td>\n",
       "      <td>7.131980e+04</td>\n",
       "      <td>10172611.0</td>\n",
       "      <td>6.164089e+05</td>\n",
       "      <td>1.063716e+07</td>\n",
       "      <td>9.688133e+06</td>\n",
       "    </tr>\n",
       "    <tr>\n",
       "      <th>std</th>\n",
       "      <td>5.416040e+00</td>\n",
       "      <td>3.640823e+07</td>\n",
       "      <td>8.291879e+02</td>\n",
       "      <td>1.103179e+03</td>\n",
       "      <td>1.105009e+04</td>\n",
       "      <td>2.503141e+06</td>\n",
       "      <td>7.855073e+02</td>\n",
       "      <td>6.334192e+01</td>\n",
       "      <td>2.023045e+02</td>\n",
       "      <td>3.078814e+02</td>\n",
       "      <td>...</td>\n",
       "      <td>7.039324e+02</td>\n",
       "      <td>1.200084e+06</td>\n",
       "      <td>7.161351e+05</td>\n",
       "      <td>4.345795e+05</td>\n",
       "      <td>1.131814e+06</td>\n",
       "      <td>6.375820e+05</td>\n",
       "      <td>25771430.0</td>\n",
       "      <td>5.084448e+06</td>\n",
       "      <td>2.656441e+07</td>\n",
       "      <td>2.550670e+07</td>\n",
       "    </tr>\n",
       "    <tr>\n",
       "      <th>min</th>\n",
       "      <td>0.000000e+00</td>\n",
       "      <td>-1.300000e+01</td>\n",
       "      <td>1.000000e+00</td>\n",
       "      <td>0.000000e+00</td>\n",
       "      <td>0.000000e+00</td>\n",
       "      <td>0.000000e+00</td>\n",
       "      <td>0.000000e+00</td>\n",
       "      <td>0.000000e+00</td>\n",
       "      <td>0.000000e+00</td>\n",
       "      <td>0.000000e+00</td>\n",
       "      <td>...</td>\n",
       "      <td>0.000000e+00</td>\n",
       "      <td>-5.368707e+08</td>\n",
       "      <td>0.000000e+00</td>\n",
       "      <td>0.000000e+00</td>\n",
       "      <td>0.000000e+00</td>\n",
       "      <td>0.000000e+00</td>\n",
       "      <td>0.0</td>\n",
       "      <td>0.000000e+00</td>\n",
       "      <td>0.000000e+00</td>\n",
       "      <td>0.000000e+00</td>\n",
       "    </tr>\n",
       "    <tr>\n",
       "      <th>25%</th>\n",
       "      <td>6.000000e+00</td>\n",
       "      <td>4.760000e+02</td>\n",
       "      <td>2.000000e+00</td>\n",
       "      <td>1.000000e+00</td>\n",
       "      <td>3.700000e+01</td>\n",
       "      <td>2.600000e+01</td>\n",
       "      <td>2.000000e+01</td>\n",
       "      <td>0.000000e+00</td>\n",
       "      <td>8.666667e+00</td>\n",
       "      <td>0.000000e+00</td>\n",
       "      <td>...</td>\n",
       "      <td>0.000000e+00</td>\n",
       "      <td>2.000000e+01</td>\n",
       "      <td>0.000000e+00</td>\n",
       "      <td>0.000000e+00</td>\n",
       "      <td>0.000000e+00</td>\n",
       "      <td>0.000000e+00</td>\n",
       "      <td>0.0</td>\n",
       "      <td>0.000000e+00</td>\n",
       "      <td>0.000000e+00</td>\n",
       "      <td>0.000000e+00</td>\n",
       "    </tr>\n",
       "    <tr>\n",
       "      <th>50%</th>\n",
       "      <td>6.000000e+00</td>\n",
       "      <td>6.478300e+04</td>\n",
       "      <td>2.000000e+00</td>\n",
       "      <td>2.000000e+00</td>\n",
       "      <td>7.400000e+01</td>\n",
       "      <td>1.830000e+02</td>\n",
       "      <td>4.300000e+01</td>\n",
       "      <td>6.000000e+00</td>\n",
       "      <td>3.955556e+01</td>\n",
       "      <td>0.000000e+00</td>\n",
       "      <td>...</td>\n",
       "      <td>1.000000e+00</td>\n",
       "      <td>2.000000e+01</td>\n",
       "      <td>0.000000e+00</td>\n",
       "      <td>0.000000e+00</td>\n",
       "      <td>0.000000e+00</td>\n",
       "      <td>0.000000e+00</td>\n",
       "      <td>0.0</td>\n",
       "      <td>0.000000e+00</td>\n",
       "      <td>0.000000e+00</td>\n",
       "      <td>0.000000e+00</td>\n",
       "    </tr>\n",
       "    <tr>\n",
       "      <th>75%</th>\n",
       "      <td>1.700000e+01</td>\n",
       "      <td>5.856948e+06</td>\n",
       "      <td>6.000000e+00</td>\n",
       "      <td>5.000000e+00</td>\n",
       "      <td>3.560000e+02</td>\n",
       "      <td>2.306000e+03</td>\n",
       "      <td>2.740000e+02</td>\n",
       "      <td>3.900000e+01</td>\n",
       "      <td>5.400000e+01</td>\n",
       "      <td>8.499406e+01</td>\n",
       "      <td>...</td>\n",
       "      <td>3.000000e+00</td>\n",
       "      <td>3.200000e+01</td>\n",
       "      <td>0.000000e+00</td>\n",
       "      <td>0.000000e+00</td>\n",
       "      <td>0.000000e+00</td>\n",
       "      <td>0.000000e+00</td>\n",
       "      <td>0.0</td>\n",
       "      <td>0.000000e+00</td>\n",
       "      <td>0.000000e+00</td>\n",
       "      <td>0.000000e+00</td>\n",
       "    </tr>\n",
       "    <tr>\n",
       "      <th>max</th>\n",
       "      <td>1.700000e+01</td>\n",
       "      <td>1.200000e+08</td>\n",
       "      <td>2.197590e+05</td>\n",
       "      <td>2.919220e+05</td>\n",
       "      <td>1.290000e+07</td>\n",
       "      <td>6.554530e+08</td>\n",
       "      <td>2.482000e+04</td>\n",
       "      <td>2.325000e+03</td>\n",
       "      <td>5.940857e+03</td>\n",
       "      <td>7.125597e+03</td>\n",
       "      <td>...</td>\n",
       "      <td>2.135570e+05</td>\n",
       "      <td>1.380000e+02</td>\n",
       "      <td>1.100000e+08</td>\n",
       "      <td>7.420000e+07</td>\n",
       "      <td>1.100000e+08</td>\n",
       "      <td>1.100000e+08</td>\n",
       "      <td>120000000.0</td>\n",
       "      <td>7.690000e+07</td>\n",
       "      <td>1.200000e+08</td>\n",
       "      <td>1.200000e+08</td>\n",
       "    </tr>\n",
       "  </tbody>\n",
       "</table>\n",
       "<p>8 rows × 77 columns</p>\n",
       "</div>"
      ],
      "text/plain": [
       "           Protocol  Flow Duration  Total Fwd Packets  Total Backward Packets  \\\n",
       "count  2.313810e+06   2.313810e+06       2.313810e+06            2.313810e+06   \n",
       "mean   1.050673e+01   1.807575e+07       1.108391e+01            1.255334e+01   \n",
       "std    5.416040e+00   3.640823e+07       8.291879e+02            1.103179e+03   \n",
       "min    0.000000e+00  -1.300000e+01       1.000000e+00            0.000000e+00   \n",
       "25%    6.000000e+00   4.760000e+02       2.000000e+00            1.000000e+00   \n",
       "50%    6.000000e+00   6.478300e+04       2.000000e+00            2.000000e+00   \n",
       "75%    1.700000e+01   5.856948e+06       6.000000e+00            5.000000e+00   \n",
       "max    1.700000e+01   1.200000e+08       2.197590e+05            2.919220e+05   \n",
       "\n",
       "       Fwd Packets Length Total  Bwd Packets Length Total  \\\n",
       "count              2.313810e+06              2.313810e+06   \n",
       "mean               6.664045e+02              1.976976e+04   \n",
       "std                1.105009e+04              2.503141e+06   \n",
       "min                0.000000e+00              0.000000e+00   \n",
       "25%                3.700000e+01              2.600000e+01   \n",
       "50%                7.400000e+01              1.830000e+02   \n",
       "75%                3.560000e+02              2.306000e+03   \n",
       "max                1.290000e+07              6.554530e+08   \n",
       "\n",
       "       Fwd Packet Length Max  Fwd Packet Length Min  Fwd Packet Length Mean  \\\n",
       "count           2.313810e+06           2.313810e+06            2.313810e+06   \n",
       "mean            2.506291e+02           2.142396e+01            6.880509e+01   \n",
       "std             7.855073e+02           6.334192e+01            2.023045e+02   \n",
       "min             0.000000e+00           0.000000e+00            0.000000e+00   \n",
       "25%             2.000000e+01           0.000000e+00            8.666667e+00   \n",
       "50%             4.300000e+01           6.000000e+00            3.955556e+01   \n",
       "75%             2.740000e+02           3.900000e+01            5.400000e+01   \n",
       "max             2.482000e+04           2.325000e+03            5.940857e+03   \n",
       "\n",
       "       Fwd Packet Length Std  ...  Fwd Act Data Packets  Fwd Seg Size Min  \\\n",
       "count           2.313810e+06  ...          2.313810e+06      2.313810e+06   \n",
       "mean            8.299154e+01  ...          6.537630e+00     -3.360480e+03   \n",
       "std             3.078814e+02  ...          7.039324e+02      1.200084e+06   \n",
       "min             0.000000e+00  ...          0.000000e+00     -5.368707e+08   \n",
       "25%             0.000000e+00  ...          0.000000e+00      2.000000e+01   \n",
       "50%             0.000000e+00  ...          1.000000e+00      2.000000e+01   \n",
       "75%             8.499406e+01  ...          3.000000e+00      3.200000e+01   \n",
       "max             7.125597e+03  ...          2.135570e+05      1.380000e+02   \n",
       "\n",
       "        Active Mean    Active Std    Active Max    Active Min    Idle Mean  \\\n",
       "count  2.313810e+06  2.313810e+06  2.313810e+06  2.313810e+06    2313810.0   \n",
       "mean   9.977086e+04  5.032396e+04  1.874053e+05  7.131980e+04   10172611.0   \n",
       "std    7.161351e+05  4.345795e+05  1.131814e+06  6.375820e+05   25771430.0   \n",
       "min    0.000000e+00  0.000000e+00  0.000000e+00  0.000000e+00          0.0   \n",
       "25%    0.000000e+00  0.000000e+00  0.000000e+00  0.000000e+00          0.0   \n",
       "50%    0.000000e+00  0.000000e+00  0.000000e+00  0.000000e+00          0.0   \n",
       "75%    0.000000e+00  0.000000e+00  0.000000e+00  0.000000e+00          0.0   \n",
       "max    1.100000e+08  7.420000e+07  1.100000e+08  1.100000e+08  120000000.0   \n",
       "\n",
       "           Idle Std      Idle Max      Idle Min  \n",
       "count  2.313810e+06  2.313810e+06  2.313810e+06  \n",
       "mean   6.164089e+05  1.063716e+07  9.688133e+06  \n",
       "std    5.084448e+06  2.656441e+07  2.550670e+07  \n",
       "min    0.000000e+00  0.000000e+00  0.000000e+00  \n",
       "25%    0.000000e+00  0.000000e+00  0.000000e+00  \n",
       "50%    0.000000e+00  0.000000e+00  0.000000e+00  \n",
       "75%    0.000000e+00  0.000000e+00  0.000000e+00  \n",
       "max    7.690000e+07  1.200000e+08  1.200000e+08  \n",
       "\n",
       "[8 rows x 77 columns]"
      ]
     },
     "execution_count": 5,
     "metadata": {},
     "output_type": "execute_result"
    }
   ],
   "source": [
    "data.describe()"
   ]
  },
  {
   "cell_type": "code",
   "execution_count": 6,
   "id": "4424b35a",
   "metadata": {},
   "outputs": [
    {
     "data": {
      "image/png": "[encoded data removed]",
      "text/plain": [
       "<Figure size 1400x600 with 2 Axes>"
      ]
     },
     "metadata": {},
     "output_type": "display_data"
    }
   ],
   "source": [
    "# Fix malformed label names\n",
    "data['Label'] = data['Label'].replace({\n",
    "    r'Web Attack\\s*[�-]?\\s*Brute Force': 'Brute Force',\n",
    "    r'Web Attack\\s*[�-]?\\s*XSS': 'XSS',\n",
    "    r'Web Attack\\s*[�-]?\\s*Sql Injection': 'SQL Injection'\n",
    "}, regex=True)\n",
    "\n",
    "# classify labels\n",
    "data['label_type'] = data['Label'].apply(lambda x: 'Benign' if 'benign' in x.lower() else 'Malicious')\n",
    "\n",
    "# count for Benign vs Malicious\n",
    "label_type_counts = data['label_type'].value_counts()\n",
    "\n",
    "# count for different malicious labels\n",
    "malicious_df = data[data['label_type'] == 'Malicious']\n",
    "malicious_label_counts = malicious_df['Label'].value_counts()\n",
    "\n",
    "# plotting\n",
    "fig, axs = plt.subplots(1, 2, figsize=(14, 6))\n",
    "\n",
    "# pie chart: Benign vs Malicious\n",
    "axs[0].pie(label_type_counts, labels=label_type_counts.index, autopct='%1.1f%%',\n",
    "           startangle=140, colors=['#66b3ff', '#ff6666'])\n",
    "axs[0].set_title('Benign vs Malicious Traffic')\n",
    "axs[0].axis('equal')\n",
    "\n",
    "# pie chart: Malicious Breakdown\n",
    "axs[1].pie(malicious_label_counts, labels=malicious_label_counts.index, autopct='%1.1f%%',\n",
    "           startangle=140)\n",
    "axs[1].set_title('Types of Malicious Traffic')\n",
    "axs[1].axis('equal')\n",
    "\n",
    "plt.tight_layout()\n",
    "plt.show()\n",
    "\n",
    "# cleanup\n",
    "data.drop(columns=['label_type'], inplace=True)\n"
   ]
  },
  {
   "cell_type": "markdown",
   "id": "7e74a7a5",
   "metadata": {},
   "source": [
    "This dataset exhibits a significant class imbalance:\n",
    "\n",
    "- Class $0$ (Benign) accounts for 85.5% of the data.\n",
    "- Class $1$ (Malicious) makes up only 14.5%.\n",
    "\n",
    "As a result, a naive model that always predicts the majority class (Class 0) would already achieve an accuracy of 85.5%.\n",
    "\n",
    "To be considered effective, any machine learning or deep learning model applied to this dataset must outperform this baseline by accurately detecting instances of the minority class (Class 1). Successfully identifying these malicious samples is crucial to demonstrating the model’s real predictive capability."
   ]
  },
  {
   "cell_type": "markdown",
   "id": "156d02df",
   "metadata": {},
   "source": [
    "### 1.3. Preprocessing"
   ]
  },
  {
   "cell_type": "markdown",
   "id": "49192772",
   "metadata": {},
   "source": [
    "#### Null values and duplicated rows"
   ]
  },
  {
   "cell_type": "code",
   "execution_count": 7,
   "id": "95f89382",
   "metadata": {},
   "outputs": [
    {
     "name": "stdout",
     "output_type": "stream",
     "text": [
      "Number of missing values: 0\n"
     ]
    }
   ],
   "source": [
    "print(f\"Number of missing values: {data.isnull().sum().sum()}\")"
   ]
  },
  {
   "cell_type": "code",
   "execution_count": 8,
   "id": "8ed8cd2a",
   "metadata": {},
   "outputs": [
    {
     "name": "stdout",
     "output_type": "stream",
     "text": [
      "Number of duplicated rows: 82004\n"
     ]
    }
   ],
   "source": [
    "print(f\"Number of duplicated rows: {data.duplicated().sum()}\")"
   ]
  },
  {
   "cell_type": "code",
   "execution_count": 9,
   "id": "7cf761e1",
   "metadata": {},
   "outputs": [
    {
     "name": "stdout",
     "output_type": "stream",
     "text": [
      "Total rows: 2231806\n",
      "Total columns: 78\n"
     ]
    }
   ],
   "source": [
    "data = data.drop_duplicates()\n",
    "print(f\"Total rows: {len(data)}\")\n",
    "print(f\"Total columns: {len(data.columns)}\")"
   ]
  },
  {
   "cell_type": "code",
   "execution_count": 10,
   "id": "7ddc75ae",
   "metadata": {},
   "outputs": [],
   "source": [
    "data = data.rename(columns={'Label': 'Threat'})"
   ]
  },
  {
   "cell_type": "code",
   "execution_count": 11,
   "id": "e25697ad",
   "metadata": {},
   "outputs": [
    {
     "name": "stdout",
     "output_type": "stream",
     "text": [
      "Label\n",
      "0    1895314\n",
      "1     336492\n",
      "Name: count, dtype: int64\n"
     ]
    }
   ],
   "source": [
    "# map 'Benign' to 0 and everything else to 1\n",
    "data['Label'] = data['Threat'].map(lambda x: 0 if x == 'Benign' else 1)\n",
    "data['Label'] = data['Label'].astype(dtype=np.int32)\n",
    "print(data['Label'].value_counts())"
   ]
  },
  {
   "cell_type": "markdown",
   "id": "f7a53e08",
   "metadata": {},
   "source": [
    "### 1.4 Train-Test Split"
   ]
  },
  {
   "cell_type": "markdown",
   "id": "45192127",
   "metadata": {},
   "source": [
    "When building a deep learning model, we split the dataset into three parts: training, validation, and test sets. The training set is used to teach the model, the validation set helps fine-tune it and monitor for overfitting, and the test set is used at the end to evaluate how well the model performs on completely unseen data.\n",
    "\n",
    "Since this dataset is imbalanced (most samples are from Class 0), we use stratified splitting to make sure that the class proportions (Class 0 and Class 1) are preserved across all splits. This ensures that each subset represents the overall distribution of the data.\n",
    "\n",
    "Here, we split 80% of the data for training, and the remaining 20% is evenly divided between validation (10%) and testing (10%)."
   ]
  },
  {
   "cell_type": "code",
   "execution_count": 12,
   "id": "feeab883",
   "metadata": {},
   "outputs": [
    {
     "name": "stdout",
     "output_type": "stream",
     "text": [
      "Training Set: 1785444 samples\n",
      "Validation Set: 223181 samples\n",
      "Test Set: 223181 samples\n"
     ]
    }
   ],
   "source": [
    "from sklearn.model_selection import train_test_split\n",
    "\n",
    "# features\n",
    "X = data.drop(columns=['Label', 'Threat'])\n",
    "\n",
    "# targets\n",
    "y_label = data['Label']\n",
    "y_threat = data['Threat']\n",
    "\n",
    "# split features and both targets into train and temp (val + test)\n",
    "X_train, X_temp, y_label_train, y_label_temp, y_threat_train, y_threat_temp = train_test_split(\n",
    "    X, y_label, y_threat, test_size=0.2, random_state=42, stratify=y_label\n",
    ")\n",
    "\n",
    "# split temp into val and test\n",
    "X_val, X_test, y_label_val, y_label_test, y_threat_val, y_threat_test = train_test_split(\n",
    "    X_temp, y_label_temp, y_threat_temp, test_size=0.5, random_state=42, stratify=y_label_temp\n",
    ")\n",
    "\n",
    "# check sizes\n",
    "print(f\"Training Set: {X_train.shape[0]} samples\")\n",
    "print(f\"Validation Set: {X_val.shape[0]} samples\")\n",
    "print(f\"Test Set: {X_test.shape[0]} samples\")\n"
   ]
  },
  {
   "cell_type": "markdown",
   "id": "a407a99b",
   "metadata": {},
   "source": [
    "### 1.5 Scaling"
   ]
  },
  {
   "cell_type": "markdown",
   "id": "dda09cac",
   "metadata": {},
   "source": [
    "When working with real-world data like the CIC-IDS-2017 dataset, it's common to encounter outliers—especially in network traffic where attacks can cause unusual spikes in certain features. To handle this, we apply the Robust Scaler, which is designed to reduce the effect of these outliers during preprocessing.\n",
    "\n",
    "Instead of using the mean and standard deviation (like StandardScaler), the Robust Scaler uses the median and the interquartile range (IQR) to scale the data. This makes it more reliable when the data includes anomalies.\n",
    "\n",
    "The formula:\n",
    "$$\n",
    "X_{\\text{scaled}} = \\frac{X - \\text{median}(X)}{\\text{IQR}(X)}\n",
    "$$"
   ]
  },
  {
   "cell_type": "code",
   "execution_count": 13,
   "id": "38263b88",
   "metadata": {},
   "outputs": [
    {
     "name": "stdout",
     "output_type": "stream",
     "text": [
      "Scaled shapes:\n",
      "Train: (1785444, 77),\n",
      "Validation: (223181, 77),\n",
      "Test: (223181, 77)\n"
     ]
    }
   ],
   "source": [
    "from sklearn.preprocessing import RobustScaler\n",
    "\n",
    "def robust_scale_data(X_train, X_val, X_test):\n",
    "    scaler = RobustScaler()\n",
    "    # fit on train, transform all\n",
    "    X_train_scaled = pd.DataFrame(scaler.fit_transform(X_train), columns=X_train.columns)\n",
    "    X_val_scaled = pd.DataFrame(scaler.transform(X_val), columns=X_val.columns)\n",
    "    X_test_scaled = pd.DataFrame(scaler.transform(X_test), columns=X_test.columns)\n",
    "    # return\n",
    "    return X_train_scaled, X_val_scaled, X_test_scaled\n",
    "\n",
    "# apply scaling\n",
    "X_train_scaled, X_val_scaled, X_test_scaled = robust_scale_data(X_train, X_val, X_test)\n",
    "\n",
    "# bundle features and both labels into one list for easy access\n",
    "scaled_data = [\n",
    "    X_train_scaled, X_val_scaled, X_test_scaled,\n",
    "    y_label_train, y_label_val, y_label_test,\n",
    "    y_threat_train, y_threat_val, y_threat_test\n",
    "]\n",
    "\n",
    "# check\n",
    "print(f\"Scaled shapes:\\nTrain: {X_train_scaled.shape},\\nValidation: {X_val_scaled.shape},\\nTest: {X_test_scaled.shape}\")"
   ]
  },
  {
   "cell_type": "markdown",
   "id": "2afa2b20",
   "metadata": {},
   "source": [
    "# 2. Modelling"
   ]
  },
  {
   "cell_type": "markdown",
   "id": "58a81b0f",
   "metadata": {},
   "source": [
    "### 2.1 Approach: Hierarchical Approach for Network Intrusion Detection\n",
    "\n",
    "For the CIC-IDS dataset, we implemented a hierarchical classification model to address the challenges of imbalanced data and multi-class threat classification. Network intrusion detection systems typically face two significant challenges:\n",
    "- Class Imbalance: Benign network traffic vastly outnumbers malicious traffic.\n",
    "- Diverse Attack Types: Malicious traffic includes multiple categories of attacks, each with different patterns and characteristics.\n",
    "\n",
    "Our hierarchical approach breaks down the classification task into two phases:\n",
    "- Phase 1: Binary classification to distinguish benign from malicious traffic.  \n",
    "- Phase 2: Multi-class classification to identify specific attack types among samples classified as malicious."
   ]
  },
  {
   "cell_type": "markdown",
   "id": "e10cfda1",
   "metadata": {},
   "source": [
    "### 2.2 Architecture\n",
    "\n",
    "Here is the architecture of the solution:  \n",
    "\n",
    "![Architecture](assets/IDS-ML.png)"
   ]
  },
  {
   "cell_type": "markdown",
   "id": "a532b6fd",
   "metadata": {},
   "source": [
    "### 2.3 Model Selection\n",
    "\n",
    "#### **2.3.1 Base Model: XGBOOST3.0**\n",
    "XGBoost (Extreme Gradient Boosting) serves as our primary model for binary classification in our hierarchical approach. This algorithm excels at processing structured data like network traffic features, making it ideal for distinguishing between benign and malicious network activity.  \n",
    "\n",
    "XGBoost builds upon the gradient boosting framework by sequentially constructing decision trees that learn from previous errors. The model evolves according to:\n",
    "$$\n",
    "F_m(x) = F_{m-1}(x) + η·h_m(x)\n",
    "$$\n",
    "Where each new tree $h_m$ contributes to improving the previous model iteration (F_{m-1}), regulated by a learning rate (η). This iterative correction process creates a robust ensemble that balances bias and variance effectively.  \n",
    "\n",
    "XGBoost offers several critical benefits for network security applications which make it particularly well-suited for the first phase of our hierarchical model:\n",
    "\n",
    "- **Efficient handling of imbalanced data:** Network traffic typically contains far more benign than malicious samples. XGBoost allows weight adjustment for minority classes, improving detection accuracy.\n",
    "- **Feature importance insights:** The algorithm automatically identifies which network attributes most significantly contribute to detecting malicious activity, enhancing interpretability.\n",
    "- **Resource efficiency:** Unlike deep learning approaches that demand extensive computational resources, XGBoost performs effectively on standard hardware.\n",
    "- **Advanced regularization:** Both L1 and L2 regularization prevent overfitting, ensuring the model generalizes well to new attack patterns.\n",
    "- **Parallel processing capabilities:** Multi-threaded execution enables rapid training and inference on large network traffic datasets.\n",
    "- **Superior handling of tabular data:** XGBoost excels with structured network flow features without requiring extensive feature engineering.\n",
    "\n",
    "\n",
    "#### **2.3.2 Threats Model: Random Forest for Multi-class Classification**\n",
    "Random Forest was chosen for the second phase due to its effectiveness in multi-class problems:\n",
    "\n",
    "- **Natural Multi-class Capability:** It naturally handles multi-class problems through voting across ensemble trees.\n",
    "- **Feature Space Randomization:** It uses bootstrapping and feature bagging to capture diverse patterns among different attack types.\n",
    "- **Robustness to Overfitting:** The ensemble approach reduces variance and improves generalization across diverse attack patterns.\n"
   ]
  },
  {
   "cell_type": "markdown",
   "id": "7d1aef77",
   "metadata": {},
   "source": [
    "### 2.4 Performance Evaluation\n",
    "\n",
    "The hierarchical model is evaluated in two distinct phases:\n",
    "#### **2.4.1 Phase 1 Metrics (Binary Classification)**\n",
    "\n",
    "$$\\text{Accuracy} = \\frac{TP + TN}{TP + TN + FP + FN}$$  \n",
    "$$\\text{Precision} = \\frac{TP}{TP + FP}$$  \n",
    "$$\\text{Recall} = \\frac{TP}{TP + FN}$$  \n",
    "$$\\text{F1-Score} = 2 \\cdot \\frac{\\text{Precision} \\cdot \\text{Recall}}{\\text{Precision} + \\text{Recall}}$$  \n",
    "\n",
    "#### **2.4.2 Phase 2 Metrics (Multi-class Classification)**\n",
    "\n",
    "$$\\text{Macro-averaged Precision} = \\frac{1}{K}\\sum_{k=1}^{K}\\text{Precision}_k$$\n",
    "$$\\text{Macro-averaged Recall} = \\frac{1}{K}\\sum_{k=1}^{K}\\text{Recall}_k$$\n",
    "$$\\text{Macro-averaged F1-Score} = \\frac{1}{K}\\sum_{k=1}^{K}\\text{F1-Score}_k.$$\n",
    "\n",
    "Where $K$ is the number of different attack types."
   ]
  },
  {
   "cell_type": "markdown",
   "id": "a12fef28",
   "metadata": {},
   "source": [
    "### 2.5 Implementation\n",
    "\n",
    "Here is the $Python$ implementation of our approach:"
   ]
  },
  {
   "cell_type": "code",
   "execution_count": 14,
   "id": "d29de199",
   "metadata": {},
   "outputs": [
    {
     "name": "stdout",
     "output_type": "stream",
     "text": [
      "\n",
      "Phase 1 - Binary Classification (Validation)\n",
      "Accuracy: 0.9992338057451127\n",
      "Precision (Macro): 0.9986194965845007\n",
      "Recall (Macro): 0.9983879151981654\n",
      "F1-Score (Macro): 0.99850366486294\n",
      "\n",
      "Phase 2 - Threat Classification (Validation)\n",
      "Accuracy: 0.9943833580980683\n",
      "Precision (Macro): 0.8613004007711816\n",
      "Recall (Macro): 0.8806979043157855\n",
      "F1-Score (Macro): 0.8298593385885015\n",
      "\n",
      "Phase 1 - Binary Classification (Test)\n",
      "Accuracy: 0.9993144577719429\n",
      "Precision (Macro): 0.9986310682355737\n",
      "Recall (Macro): 0.9986920050092092\n",
      "F1-Score (Macro): 0.9986615337821361\n",
      "\n",
      "Phase 2 - Threat Classification (Test)\n",
      "Accuracy: 0.995096436744034\n",
      "Precision (Macro): 0.8314217688858522\n",
      "Recall (Macro): 0.8716756131198589\n",
      "F1-Score (Macro): 0.8129524863618325\n"
     ]
    }
   ],
   "source": [
    "from sklearn.model_selection import train_test_split\n",
    "from sklearn.preprocessing import RobustScaler\n",
    "from sklearn.ensemble import RandomForestClassifier\n",
    "from xgboost import XGBClassifier\n",
    "from sklearn.metrics import accuracy_score, precision_score, recall_score, f1_score\n",
    "from sklearn.base import BaseEstimator, TransformerMixin\n",
    "import pandas as pd\n",
    "import numpy as np\n",
    "\n",
    "# Define the custom transformer for the hierarchical classification\n",
    "class HierarchicalClassifier(BaseEstimator, TransformerMixin):\n",
    "    def __init__(self, base_model=None, threat_model=None):\n",
    "        self.base_model = base_model if base_model is not None else XGBClassifier(random_state=42)\n",
    "        self.threat_model = threat_model if threat_model is not None else RandomForestClassifier(random_state=42)\n",
    "\n",
    "    def fit(self, X, y_label, y_threat):\n",
    "        X = X.reset_index(drop=True)\n",
    "        y_label = y_label.reset_index(drop=True)\n",
    "        y_threat = y_threat.reset_index(drop=True)\n",
    "\n",
    "        self.base_model.fit(X, y_label)\n",
    "        self.threat_model.fit(X[y_label == 1], y_threat[y_label == 1])\n",
    "        return self\n",
    "\n",
    "    def predict(self, X, return_labels_only=False):\n",
    "        X = X.reset_index(drop=True)\n",
    "        y_pred_label = self.base_model.predict(X)\n",
    "\n",
    "        if return_labels_only:\n",
    "            return y_pred_label\n",
    "\n",
    "        y_pred_threat = [\"\"] * len(y_pred_label)\n",
    "        malicious_indices = y_pred_label == 1\n",
    "        malicious_indices_list = list(malicious_indices)\n",
    "        malicious_samples = X[malicious_indices]\n",
    "\n",
    "        if len(malicious_samples) > 0:\n",
    "            rf_preds = self.threat_model.predict(malicious_samples)\n",
    "            for idx, threat in zip([i for i, m in enumerate(malicious_indices_list) if m], rf_preds):\n",
    "                y_pred_threat[idx] = threat\n",
    "\n",
    "        final_predictions = [\n",
    "            \"Benign\" if label == 0 else f\"Malicious: {threat}\"\n",
    "            for label, threat in zip(y_pred_label, y_pred_threat)\n",
    "        ]\n",
    "        return final_predictions, y_pred_label, y_pred_threat\n",
    "\n",
    "\n",
    "# Instantiate models\n",
    "base_model = XGBClassifier(random_state=42)\n",
    "threat_model = RandomForestClassifier(random_state=42)\n",
    "\n",
    "# Train\n",
    "pipeline = HierarchicalClassifier(base_model=base_model, threat_model=threat_model)\n",
    "pipeline.fit(X_train_scaled, y_label_train, y_threat_train)\n",
    "\n",
    "# Evaluation function with macro metrics + classification report\n",
    "def evaluate_model(y_true, y_pred, phase_desc=\"\"):\n",
    "    print(f\"\\n{phase_desc}\")\n",
    "    print(\"Accuracy:\", accuracy_score(y_true, y_pred))\n",
    "    print(\"Precision (Macro):\", precision_score(y_true, y_pred, average=\"macro\", zero_division=1))\n",
    "    print(\"Recall (Macro):\", recall_score(y_true, y_pred, average=\"macro\", zero_division=1))\n",
    "    print(\"F1-Score (Macro):\", f1_score(y_true, y_pred, average=\"macro\", zero_division=1))\n",
    "\n",
    "\n",
    "# --- Phase 1: Binary Classification (Validation) ---\n",
    "_, y_val_labels, y_val_threats = pipeline.predict(X_val_scaled)\n",
    "evaluate_model(y_label_val, y_val_labels, phase_desc=\"Phase 1 - Binary Classification (Validation)\")\n",
    "\n",
    "# --- Phase 2: Threat Classification (Validation) ---\n",
    "val_mask = y_label_val == 1\n",
    "y_val_threat_true = y_threat_val[val_mask].reset_index(drop=True)\n",
    "y_val_threat_pred = np.array(y_val_threats)[val_mask.values]\n",
    "evaluate_model(y_val_threat_true, y_val_threat_pred, phase_desc=\"Phase 2 - Threat Classification (Validation)\")\n",
    "\n",
    "# --- Phase 1: Binary Classification (Test) ---\n",
    "_, y_test_labels, y_test_threats = pipeline.predict(X_test_scaled)\n",
    "evaluate_model(y_label_test, y_test_labels, phase_desc=\"Phase 1 - Binary Classification (Test)\")\n",
    "\n",
    "# --- Phase 2: Threat Classification (Test) ---\n",
    "test_mask = y_label_test == 1\n",
    "y_test_threat_true = y_threat_test[test_mask].reset_index(drop=True)\n",
    "y_test_threat_pred = np.array(y_test_threats)[test_mask.values]\n",
    "evaluate_model(y_test_threat_true, y_test_threat_pred, phase_desc=\"Phase 2 - Threat Classification (Test)\")\n"
   ]
  },
  {
   "cell_type": "code",
   "execution_count": 15,
   "id": "3387a1f7",
   "metadata": {},
   "outputs": [
    {
     "data": {
      "text/plain": [
       "['hierarchical_classifier.pkl']"
      ]
     },
     "execution_count": 15,
     "metadata": {},
     "output_type": "execute_result"
    }
   ],
   "source": [
    "import joblib\n",
    "\n",
    "# save the trained pipeline\n",
    "joblib.dump(pipeline, \"hierarchical_classifier.pkl\")"
   ]
  },
  {
   "cell_type": "markdown",
   "id": "9aecd729",
   "metadata": {},
   "source": [
    "# 3. Testing"
   ]
  },
  {
   "cell_type": "code",
   "execution_count": null,
   "id": "c54591d9",
   "metadata": {},
   "outputs": [],
   "source": [
    "# load the model\n",
    "loaded_pipeline = joblib.load(\"hierarchical_classifier.pkl\")"
   ]
  },
  {
   "cell_type": "markdown",
   "id": "3e7b2257",
   "metadata": {},
   "source": [
    "### 3.1 Random: Sampled instance"
   ]
  },
  {
   "cell_type": "code",
   "execution_count": 38,
   "id": "75927663",
   "metadata": {},
   "outputs": [
    {
     "data": {
      "text/html": [
       "<div>\n",
       "<style scoped>\n",
       "    .dataframe tbody tr th:only-of-type {\n",
       "        vertical-align: middle;\n",
       "    }\n",
       "\n",
       "    .dataframe tbody tr th {\n",
       "        vertical-align: top;\n",
       "    }\n",
       "\n",
       "    .dataframe thead th {\n",
       "        text-align: right;\n",
       "    }\n",
       "</style>\n",
       "<table border=\"1\" class=\"dataframe\">\n",
       "  <thead>\n",
       "    <tr style=\"text-align: right;\">\n",
       "      <th></th>\n",
       "      <th>Protocol</th>\n",
       "      <th>Flow Duration</th>\n",
       "      <th>Total Fwd Packets</th>\n",
       "      <th>Total Backward Packets</th>\n",
       "      <th>Fwd Packets Length Total</th>\n",
       "      <th>Bwd Packets Length Total</th>\n",
       "      <th>Fwd Packet Length Max</th>\n",
       "      <th>Fwd Packet Length Min</th>\n",
       "      <th>Fwd Packet Length Mean</th>\n",
       "      <th>Fwd Packet Length Std</th>\n",
       "      <th>...</th>\n",
       "      <th>Fwd Act Data Packets</th>\n",
       "      <th>Fwd Seg Size Min</th>\n",
       "      <th>Active Mean</th>\n",
       "      <th>Active Std</th>\n",
       "      <th>Active Max</th>\n",
       "      <th>Active Min</th>\n",
       "      <th>Idle Mean</th>\n",
       "      <th>Idle Std</th>\n",
       "      <th>Idle Max</th>\n",
       "      <th>Idle Min</th>\n",
       "    </tr>\n",
       "  </thead>\n",
       "  <tbody>\n",
       "    <tr>\n",
       "      <th>0</th>\n",
       "      <td>-0.210365</td>\n",
       "      <td>12.969553</td>\n",
       "      <td>24749.478276</td>\n",
       "      <td>17582.357398</td>\n",
       "      <td>30340.835386</td>\n",
       "      <td>47786.665384</td>\n",
       "      <td>41.608049</td>\n",
       "      <td>5.905134</td>\n",
       "      <td>66.483271</td>\n",
       "      <td>38.105663</td>\n",
       "      <td>...</td>\n",
       "      <td>58502.442565</td>\n",
       "      <td>-2.715368e+06</td>\n",
       "      <td>8.741430e+07</td>\n",
       "      <td>6.385831e+07</td>\n",
       "      <td>2.005681e+07</td>\n",
       "      <td>8.087968e+07</td>\n",
       "      <td>3.260008</td>\n",
       "      <td>4.825138e+07</td>\n",
       "      <td>19.274719</td>\n",
       "      <td>18.582432</td>\n",
       "    </tr>\n",
       "  </tbody>\n",
       "</table>\n",
       "<p>1 rows × 77 columns</p>\n",
       "</div>"
      ],
      "text/plain": [
       "   Protocol  Flow Duration  Total Fwd Packets  Total Backward Packets  \\\n",
       "0 -0.210365      12.969553       24749.478276            17582.357398   \n",
       "\n",
       "   Fwd Packets Length Total  Bwd Packets Length Total  Fwd Packet Length Max  \\\n",
       "0              30340.835386              47786.665384              41.608049   \n",
       "\n",
       "   Fwd Packet Length Min  Fwd Packet Length Mean  Fwd Packet Length Std  ...  \\\n",
       "0               5.905134               66.483271              38.105663  ...   \n",
       "\n",
       "   Fwd Act Data Packets  Fwd Seg Size Min   Active Mean    Active Std  \\\n",
       "0          58502.442565     -2.715368e+06  8.741430e+07  6.385831e+07   \n",
       "\n",
       "     Active Max    Active Min  Idle Mean      Idle Std   Idle Max   Idle Min  \n",
       "0  2.005681e+07  8.087968e+07   3.260008  4.825138e+07  19.274719  18.582432  \n",
       "\n",
       "[1 rows x 77 columns]"
      ]
     },
     "execution_count": 38,
     "metadata": {},
     "output_type": "execute_result"
    }
   ],
   "source": [
    "# create a random input row using min-max values of training data\n",
    "sample_row = pd.DataFrame([\n",
    "   np.random.uniform(X_train_scaled.min(), X_train_scaled.max())\n",
    "], columns=X_train_scaled.columns)\n",
    "\n",
    "sample_row\n"
   ]
  },
  {
   "cell_type": "code",
   "execution_count": 39,
   "id": "cc1f4af8",
   "metadata": {},
   "outputs": [
    {
     "name": "stdout",
     "output_type": "stream",
     "text": [
      "Final Prediction: Benign\n",
      "Binary Label: 0\n",
      "Threat Type: \n"
     ]
    }
   ],
   "source": [
    "final_pred, binary_label, threat_label = loaded_pipeline.predict(sample_row)\n",
    "print(\"Final Prediction:\", final_pred[0])\n",
    "print(\"Binary Label:\", binary_label[0])\n",
    "print(\"Threat Type:\", threat_label[0])"
   ]
  },
  {
   "cell_type": "markdown",
   "id": "96abfccb",
   "metadata": {},
   "source": [
    "### 3.2 Malicious: Sampled instance"
   ]
  },
  {
   "cell_type": "code",
   "execution_count": 55,
   "id": "c03987b2",
   "metadata": {},
   "outputs": [],
   "source": [
    "import random\n",
    "\n",
    "# get index positions (not actual index values) of malicious samples\n",
    "malicious_positions = (y_label_val == 1).to_numpy().nonzero()[0]\n",
    "sample_pos = random.choice(malicious_positions)\n",
    "sample_row_2 = pd.DataFrame([X_val_scaled.iloc[sample_pos]], columns=X_val_scaled.columns)"
   ]
  },
  {
   "cell_type": "code",
   "execution_count": 56,
   "id": "63cc4ec4",
   "metadata": {},
   "outputs": [
    {
     "name": "stdout",
     "output_type": "stream",
     "text": [
      "Final Prediction: Malicious: DoS Hulk\n",
      "Binary Label: 1\n",
      "Threat Type: DoS Hulk\n"
     ]
    }
   ],
   "source": [
    "final_pred_2, binary_label_2, threat_label_2 = loaded_pipeline.predict(sample_row_2)\n",
    "print(\"Final Prediction:\", final_pred_2[0])\n",
    "print(\"Binary Label:\", binary_label_2[0])\n",
    "print(\"Threat Type:\", threat_label_2[0])"
   ]
  }
 ],
 "metadata": {
  "kernelspec": {
   "display_name": "Python 3",
   "language": "python",
   "name": "python3"
  },
  "language_info": {
   "codemirror_mode": {
    "name": "ipython",
    "version": 3
   },
   "file_extension": ".py",
   "mimetype": "text/x-python",
   "name": "python",
   "nbconvert_exporter": "python",
   "pygments_lexer": "ipython3",
   "version": "3.13.2"
  }
 },
 "nbformat": 4,
 "nbformat_minor": 5
}
